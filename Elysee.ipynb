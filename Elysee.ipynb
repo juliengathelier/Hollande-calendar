{
 "metadata": {
  "name": "Elysee"
 },
 "nbformat": 3,
 "nbformat_minor": 0,
 "worksheets": [
  {
   "cells": [
    {
     "cell_type": "code",
     "collapsed": false,
     "input": "from urllib2 import Request, urlopen\nfrom bs4 import BeautifulSoup\nimport re\nimport lxml\nimport time\nimport random",
     "language": "python",
     "metadata": {},
     "outputs": [],
     "prompt_number": 76
    },
    {
     "cell_type": "code",
     "collapsed": false,
     "input": "Request(\"http://www.elysee.fr/Agenda\").add_header('Julien Gathelier', \"jag2296@columbia.edu\")\n    \nconnection = urlopen(\"http://www.elysee.fr/Agenda\")\n    \ndata = connection.read()\n    \npage_code = BeautifulSoup(data)    ",
     "language": "python",
     "metadata": {},
     "outputs": [],
     "prompt_number": 77
    },
    {
     "cell_type": "code",
     "collapsed": false,
     "input": "page_code",
     "language": "python",
     "metadata": {},
     "outputs": [
      {
       "metadata": {},
       "output_type": "pyout",
       "prompt_number": 78,
       "text": "<html><head><meta content=\"no-cache\" http-equiv=\"Cache-Control\"/><meta content=\"no-cache\" http-equiv=\"Pragma\"/><meta content=\"0\" http-equiv=\"Expires\"/><link href=\"http://www.elysee.fr/Agenda/index/104/agenda-de-m-le-president-de-la-republique-du-lundi-12-mai-au-dimanche-18-mai-2014\" rel=\"canonical\"/><meta content=\"0; URL=\" http-equiv=\"refresh\" http:=\"\"/></head><body><script>document.location='http://www.elysee.fr/Agenda/index/104/agenda-de-m-le-president-de-la-republique-du-lundi-12-mai-au-dimanche-18-mai-2014';</script></body></html>"
      }
     ],
     "prompt_number": 78
    },
    {
     "cell_type": "code",
     "collapsed": false,
     "input": "url = page_code.find(\"script\")\nurl = url.getText()\nstr(url)\nurl = url[19:]\nurl = url[:-2]",
     "language": "python",
     "metadata": {},
     "outputs": [],
     "prompt_number": 79
    },
    {
     "cell_type": "code",
     "collapsed": false,
     "input": "url",
     "language": "python",
     "metadata": {},
     "outputs": [
      {
       "metadata": {},
       "output_type": "pyout",
       "prompt_number": 80,
       "text": "u'http://www.elysee.fr/Agenda/index/104/agenda-de-m-le-president-de-la-republique-du-lundi-12-mai-au-dimanche-18-mai-2014'"
      }
     ],
     "prompt_number": 80
    },
    {
     "cell_type": "code",
     "collapsed": false,
     "input": "Request(url).add_header('Julien Gathelier',\"jag2296@columbia.edu\")  \n\nconnection = urlopen(url)\ndata = connection.read()\npage = BeautifulSoup(data)\npages = []\npages.append(page)\ndates = []\ntime = []\nevent = []\n\nprint type(pages)\n  ",
     "language": "python",
     "metadata": {},
     "outputs": [
      {
       "output_type": "stream",
       "stream": "stdout",
       "text": "<type 'list'>\n"
      }
     ],
     "prompt_number": 81
    },
    {
     "cell_type": "code",
     "collapsed": false,
     "input": "for x in pages:\n    for p in x:\n        deets = p.find_all(\"h3\",\"tab-title\")\n        for i in deets: \n            for e in i.next_siblings: \n                try:\n                    for d in e.find_all(\"span\",\"time\"):\n                        dates.append(i.getText())\n                        time.append(d.getText().replace(\"h\",\":\"))\n                        event.append(d.find_next(\"p\",\"title\").getText())\n                except: continue\n                        \n        link = \"http://www.elysee.fr/\"+page_code.find(\"a\",\"icon-arrow_r_wh\")[\"href\"]\n        time.sleep(random.randrange(1,5))\n        print page_code.find(\"a\",\"icon-arrow_r_wh\")[\"href\"]\n        connection = urlopen(link)\n        data = connection.read()\n        page_code = BeautifulSoup(data)\n        pages.append(page_code)\n    ",
     "language": "python",
     "metadata": {},
     "outputs": [
      {
       "ename": "AttributeError",
       "evalue": "'Doctype' object has no attribute 'find_all'",
       "output_type": "pyerr",
       "traceback": [
        "\u001b[1;31m---------------------------------------------------------------------------\u001b[0m\n\u001b[1;31mAttributeError\u001b[0m                            Traceback (most recent call last)",
        "\u001b[1;32m<ipython-input-89-76f406ef9e08>\u001b[0m in \u001b[0;36m<module>\u001b[1;34m()\u001b[0m\n\u001b[0;32m      1\u001b[0m \u001b[1;32mfor\u001b[0m \u001b[0mx\u001b[0m \u001b[1;32min\u001b[0m \u001b[0mpages\u001b[0m\u001b[1;33m:\u001b[0m\u001b[1;33m\u001b[0m\u001b[0m\n\u001b[0;32m      2\u001b[0m     \u001b[1;32mfor\u001b[0m \u001b[0mp\u001b[0m \u001b[1;32min\u001b[0m \u001b[0mx\u001b[0m\u001b[1;33m:\u001b[0m\u001b[1;33m\u001b[0m\u001b[0m\n\u001b[1;32m----> 3\u001b[1;33m         \u001b[0mdeets\u001b[0m \u001b[1;33m=\u001b[0m \u001b[0mp\u001b[0m\u001b[1;33m.\u001b[0m\u001b[0mfind_all\u001b[0m\u001b[1;33m(\u001b[0m\u001b[1;34m\"h3\"\u001b[0m\u001b[1;33m,\u001b[0m\u001b[1;34m\"tab-title\"\u001b[0m\u001b[1;33m)\u001b[0m\u001b[1;33m\u001b[0m\u001b[0m\n\u001b[0m\u001b[0;32m      4\u001b[0m         \u001b[1;32mfor\u001b[0m \u001b[0mi\u001b[0m \u001b[1;32min\u001b[0m \u001b[0mdeets\u001b[0m\u001b[1;33m:\u001b[0m\u001b[1;33m\u001b[0m\u001b[0m\n\u001b[0;32m      5\u001b[0m             \u001b[1;32mfor\u001b[0m \u001b[0me\u001b[0m \u001b[1;32min\u001b[0m \u001b[0mi\u001b[0m\u001b[1;33m.\u001b[0m\u001b[0mnext_siblings\u001b[0m\u001b[1;33m:\u001b[0m\u001b[1;33m\u001b[0m\u001b[0m\n",
        "\u001b[1;32m/usr/local/lib/python2.7/dist-packages/beautifulsoup4-4.1.3-py2.7.egg/bs4/element.pyc\u001b[0m in \u001b[0;36m__getattr__\u001b[1;34m(self, attr)\u001b[0m\n\u001b[0;32m    665\u001b[0m             raise AttributeError(\n\u001b[0;32m    666\u001b[0m                 \"'%s' object has no attribute '%s'\" % (\n\u001b[1;32m--> 667\u001b[1;33m                     self.__class__.__name__, attr))\n\u001b[0m\u001b[0;32m    668\u001b[0m \u001b[1;33m\u001b[0m\u001b[0m\n\u001b[0;32m    669\u001b[0m     \u001b[1;32mdef\u001b[0m \u001b[0moutput_ready\u001b[0m\u001b[1;33m(\u001b[0m\u001b[0mself\u001b[0m\u001b[1;33m,\u001b[0m \u001b[0mformatter\u001b[0m\u001b[1;33m=\u001b[0m\u001b[1;34m\"minimal\"\u001b[0m\u001b[1;33m)\u001b[0m\u001b[1;33m:\u001b[0m\u001b[1;33m\u001b[0m\u001b[0m\n",
        "\u001b[1;31mAttributeError\u001b[0m: 'Doctype' object has no attribute 'find_all'"
       ]
      }
     ],
     "prompt_number": 89
    },
    {
     "cell_type": "code",
     "collapsed": false,
     "input": "",
     "language": "python",
     "metadata": {},
     "outputs": [
      {
       "ename": "IndexError",
       "evalue": "list index out of range",
       "output_type": "pyerr",
       "traceback": [
        "\u001b[1;31m---------------------------------------------------------------------------\u001b[0m\n\u001b[1;31mIndexError\u001b[0m                                Traceback (most recent call last)",
        "\u001b[1;32m<ipython-input-70-c71eb0a8f997>\u001b[0m in \u001b[0;36m<module>\u001b[1;34m()\u001b[0m\n\u001b[1;32m----> 1\u001b[1;33m \u001b[1;32mprint\u001b[0m \u001b[0mpages\u001b[0m\u001b[1;33m[\u001b[0m\u001b[1;36m5\u001b[0m\u001b[1;33m]\u001b[0m\u001b[1;33m.\u001b[0m\u001b[0mprettify\u001b[0m\u001b[1;33m(\u001b[0m\u001b[1;33m)\u001b[0m\u001b[1;33m\u001b[0m\u001b[0m\n\u001b[0m",
        "\u001b[1;31mIndexError\u001b[0m: list index out of range"
       ]
      }
     ],
     "prompt_number": 70
    },
    {
     "cell_type": "markdown",
     "metadata": {},
     "source": "dates = []\ntime = []\nevent = []\n\nfor p in pages:\n    deets = p.find_all(\"h3\",\"tab-title\")\n    for i in deets: \n        for e in i.next_siblings: \n            try:\n                for d in e.find_all(\"span\",\"time\"):\n                    dates.append(i.getText())\n                    time.append(d.getText().replace(\"h\",\":\"))\n                    event.append(d.find_next(\"p\",\"title\").getText())\n            except: continue\n        "
    },
    {
     "cell_type": "code",
     "collapsed": false,
     "input": "print dates[1], time[1], event[1]\nprint\nprint len(dates), len(time), len(event)",
     "language": "python",
     "metadata": {},
     "outputs": [
      {
       "output_type": "stream",
       "stream": "stdout",
       "text": "lundi 28 Avril 2014 10:00 Entretien avec M. Bernard CAZENEUVE, ministre de l\u2019Int\u00e9rieur\n\n93 93 93\n"
      }
     ],
     "prompt_number": 50
    },
    {
     "cell_type": "markdown",
     "metadata": {},
     "source": "for p in pages:\n    p.find_all(\"h3\",\"tab-title\")\n    for e in d.next_siblings: \n        try:\n            for d in e.find_all(\"span\",\"time\"):\n                print dates, d.getText().replace(\"h\",\":\"),d.find_next(\"p\",\"title\").getText()\n        except: continue\n#.findChildren(\"span\",\"time\")\n#    find_next_siblings(\"span\",\"time\")\n#        if \"getText\" in e: print deets, e.getText()\n#    print p[\"aria-labelledby\"]#, p.findNext(\"span\",\"hidden month\").getText()\n"
    },
    {
     "cell_type": "code",
     "collapsed": false,
     "input": "print dates[25]",
     "language": "python",
     "metadata": {},
     "outputs": [
      {
       "output_type": "stream",
       "stream": "stdout",
       "text": "mercredi 07 Mai 2014\n"
      }
     ],
     "prompt_number": 57
    },
    {
     "cell_type": "code",
     "collapsed": false,
     "input": "import pandas\ncalendar = pandas.DataFrame({\"dates\":dates,\"time\":time,\"event\":event})",
     "language": "python",
     "metadata": {},
     "outputs": [],
     "prompt_number": 58
    },
    {
     "cell_type": "code",
     "collapsed": false,
     "input": "calendar",
     "language": "python",
     "metadata": {},
     "outputs": [
      {
       "html": "<div style=\"max-height:1000px;max-width:1500px;overflow:auto;\">\n<table border=\"1\" class=\"dataframe\">\n  <thead>\n    <tr style=\"text-align: right;\">\n      <th></th>\n      <th>dates</th>\n      <th>event</th>\n      <th>time</th>\n    </tr>\n  </thead>\n  <tbody>\n    <tr>\n      <th>0 </th>\n      <td>    lundi 28 Avril 2014</td>\n      <td> Entretien avec M. Jeffrey IMMELT, pr\u00e9sident di...</td>\n      <td> 09:30</td>\n    </tr>\n    <tr>\n      <th>1 </th>\n      <td>    lundi 28 Avril 2014</td>\n      <td> Entretien avec M. Bernard CAZENEUVE, ministre ...</td>\n      <td> 10:00</td>\n    </tr>\n    <tr>\n      <th>2 </th>\n      <td>    lundi 28 Avril 2014</td>\n      <td>   D\u00e9jeuner avec M. Manuel VALLS, Premier ministre</td>\n      <td> 13:00</td>\n    </tr>\n    <tr>\n      <th>3 </th>\n      <td>    lundi 28 Avril 2014</td>\n      <td> Cl\u00f4ture de la rencontre sur le th\u00e8me \u00ab L\u2019Etat ...</td>\n      <td> 17:00</td>\n    </tr>\n    <tr>\n      <th>4 </th>\n      <td>    mardi 29 Avril 2014</td>\n      <td> Entretien avec M. Laurent FABIUS, ministre des...</td>\n      <td> 08:30</td>\n    </tr>\n    <tr>\n      <th>5 </th>\n      <td>    mardi 29 Avril 2014</td>\n      <td>  Inauguration de l\u2019exposition \u00ab Naissance d\u2019un...</td>\n      <td> 10:30</td>\n    </tr>\n    <tr>\n      <th>6 </th>\n      <td>    mardi 29 Avril 2014</td>\n      <td> Entretien avec M. Jos\u00e9 Eduardo DOS SANTOS, pr\u00e9...</td>\n      <td> 12:30</td>\n    </tr>\n    <tr>\n      <th>7 </th>\n      <td>    mardi 29 Avril 2014</td>\n      <td> Remise du rapport d\u2019activit\u00e9 du Conseil d\u2019Etat...</td>\n      <td> 15:00</td>\n    </tr>\n    <tr>\n      <th>8 </th>\n      <td>    mardi 29 Avril 2014</td>\n      <td> Entretien avec M. Mehdi JOMAA, chef du gouvern...</td>\n      <td> 16:00</td>\n    </tr>\n    <tr>\n      <th>9 </th>\n      <td>    mardi 29 Avril 2014</td>\n      <td> C\u00e9r\u00e9monie de remise collective de d\u00e9corations ...</td>\n      <td> 18:00</td>\n    </tr>\n    <tr>\n      <th>10</th>\n      <td> mercredi 30 Avril 2014</td>\n      <td>                             Conseil des ministres</td>\n      <td> 10:00</td>\n    </tr>\n    <tr>\n      <th>11</th>\n      <td> mercredi 30 Avril 2014</td>\n      <td> D\u00e9jeuner en l\u2019honneur des r\u00e9alisateurs s\u00e9lecti...</td>\n      <td> 13:00</td>\n    </tr>\n    <tr>\n      <th>12</th>\n      <td> mercredi 30 Avril 2014</td>\n      <td> Entretien avec M. Fran\u00e7ois REBSAMEN, ministre ...</td>\n      <td> 19:00</td>\n    </tr>\n    <tr>\n      <th>13</th>\n      <td>      jeudi 01 Mai 2014</td>\n      <td> C\u00e9r\u00e9monie de remise de m\u00e9dailles d\u2019honneur du ...</td>\n      <td> 10:00</td>\n    </tr>\n    <tr>\n      <th>14</th>\n      <td>      jeudi 01 Mai 2014</td>\n      <td> C\u00e9r\u00e9monie traditionnelle de remise du muguet p...</td>\n      <td> 12:00</td>\n    </tr>\n    <tr>\n      <th>15</th>\n      <td>     samedi 03 Mai 2014</td>\n      <td> Arriv\u00e9e au Stade de France du Pr\u00e9sident de la ...</td>\n      <td> 20:05</td>\n    </tr>\n    <tr>\n      <th>16</th>\n      <td>     samedi 03 Mai 2014</td>\n      <td> Allocution du Pr\u00e9sident de la R\u00e9publique et si...</td>\n      <td> 20:10</td>\n    </tr>\n    <tr>\n      <th>17</th>\n      <td>     samedi 03 Mai 2014</td>\n      <td>                                    D\u00e9but du match</td>\n      <td> 21:00</td>\n    </tr>\n    <tr>\n      <th>18</th>\n      <td>      lundi 05 Mai 2014</td>\n      <td> Entretien avec M. Shinzo ABE, Premier ministre...</td>\n      <td> 10:15</td>\n    </tr>\n    <tr>\n      <th>19</th>\n      <td>      lundi 05 Mai 2014</td>\n      <td> R\u00e9ception \u00e0 la R\u00e9sidence officielle de l\u2019Ambas...</td>\n      <td> 12:00</td>\n    </tr>\n    <tr>\n      <th>20</th>\n      <td>      lundi 05 Mai 2014</td>\n      <td>   D\u00e9jeuner avec M. Manuel VALLS, Premier ministre</td>\n      <td> 13:00</td>\n    </tr>\n    <tr>\n      <th>21</th>\n      <td>      lundi 05 Mai 2014</td>\n      <td> D\u00eener officiel en l\u2019honneur de M. Shinzo ABE, ...</td>\n      <td> 20:00</td>\n    </tr>\n    <tr>\n      <th>22</th>\n      <td>      mardi 06 Mai 2014</td>\n      <td> Interview sur RMC et BFM TV - R\u00e9ponses aux que...</td>\n      <td> 08:30</td>\n    </tr>\n    <tr>\n      <th>23</th>\n      <td>      mardi 06 Mai 2014</td>\n      <td> D\u00e9placement \u00e0 l\u2019Institut des M\u00e9tiers et de l\u2019A...</td>\n      <td> 10:00</td>\n    </tr>\n    <tr>\n      <th>24</th>\n      <td>      mardi 06 Mai 2014</td>\n      <td>                Entretien avec M. Pierre MOSCOVICI</td>\n      <td> 15:45</td>\n    </tr>\n    <tr>\n      <th>25</th>\n      <td>   mercredi 07 Mai 2014</td>\n      <td>  Entretien avec M. Manuel VALLS, Premier ministre</td>\n      <td> 09:00</td>\n    </tr>\n    <tr>\n      <th>26</th>\n      <td>   mercredi 07 Mai 2014</td>\n      <td>                             Conseil des ministres</td>\n      <td> 10:00</td>\n    </tr>\n    <tr>\n      <th>27</th>\n      <td>   mercredi 07 Mai 2014</td>\n      <td>       R\u00e9union sur la Nouvelle France industrielle</td>\n      <td> 11:30</td>\n    </tr>\n    <tr>\n      <th>28</th>\n      <td>   mercredi 07 Mai 2014</td>\n      <td> Entretien avec M. Jean-Yves LE DRIAN, ministre...</td>\n      <td> 18:00</td>\n    </tr>\n    <tr>\n      <th>29</th>\n      <td>      jeudi 08 Mai 2014</td>\n      <td> C\u00e9r\u00e9monies de comm\u00e9moration de la Victoire du ...</td>\n      <td> 10:30</td>\n    </tr>\n    <tr>\n      <th>30</th>\n      <td>     samedi 10 Mai 2014</td>\n      <td> C\u00e9r\u00e9monie de comm\u00e9moration de la journ\u00e9e natio...</td>\n      <td> 16:00</td>\n    </tr>\n    <tr>\n      <th>31</th>\n      <td>    lundi 28 Avril 2014</td>\n      <td> Entretien avec M. Jeffrey IMMELT, pr\u00e9sident di...</td>\n      <td> 09:30</td>\n    </tr>\n    <tr>\n      <th>32</th>\n      <td>    lundi 28 Avril 2014</td>\n      <td> Entretien avec M. Bernard CAZENEUVE, ministre ...</td>\n      <td> 10:00</td>\n    </tr>\n    <tr>\n      <th>33</th>\n      <td>    lundi 28 Avril 2014</td>\n      <td>   D\u00e9jeuner avec M. Manuel VALLS, Premier ministre</td>\n      <td> 13:00</td>\n    </tr>\n    <tr>\n      <th>34</th>\n      <td>    lundi 28 Avril 2014</td>\n      <td> Cl\u00f4ture de la rencontre sur le th\u00e8me \u00ab L\u2019Etat ...</td>\n      <td> 17:00</td>\n    </tr>\n    <tr>\n      <th>35</th>\n      <td>    mardi 29 Avril 2014</td>\n      <td> Entretien avec M. Laurent FABIUS, ministre des...</td>\n      <td> 08:30</td>\n    </tr>\n    <tr>\n      <th>36</th>\n      <td>    mardi 29 Avril 2014</td>\n      <td>  Inauguration de l\u2019exposition \u00ab Naissance d\u2019un...</td>\n      <td> 10:30</td>\n    </tr>\n    <tr>\n      <th>37</th>\n      <td>    mardi 29 Avril 2014</td>\n      <td> Entretien avec M. Jos\u00e9 Eduardo DOS SANTOS, pr\u00e9...</td>\n      <td> 12:30</td>\n    </tr>\n    <tr>\n      <th>38</th>\n      <td>    mardi 29 Avril 2014</td>\n      <td> Remise du rapport d\u2019activit\u00e9 du Conseil d\u2019Etat...</td>\n      <td> 15:00</td>\n    </tr>\n    <tr>\n      <th>39</th>\n      <td>    mardi 29 Avril 2014</td>\n      <td> Entretien avec M. Mehdi JOMAA, chef du gouvern...</td>\n      <td> 16:00</td>\n    </tr>\n    <tr>\n      <th>40</th>\n      <td>    mardi 29 Avril 2014</td>\n      <td> C\u00e9r\u00e9monie de remise collective de d\u00e9corations ...</td>\n      <td> 18:00</td>\n    </tr>\n    <tr>\n      <th>41</th>\n      <td> mercredi 30 Avril 2014</td>\n      <td>                             Conseil des ministres</td>\n      <td> 10:00</td>\n    </tr>\n    <tr>\n      <th>42</th>\n      <td> mercredi 30 Avril 2014</td>\n      <td> D\u00e9jeuner en l\u2019honneur des r\u00e9alisateurs s\u00e9lecti...</td>\n      <td> 13:00</td>\n    </tr>\n    <tr>\n      <th>43</th>\n      <td> mercredi 30 Avril 2014</td>\n      <td> Entretien avec M. Fran\u00e7ois REBSAMEN, ministre ...</td>\n      <td> 19:00</td>\n    </tr>\n    <tr>\n      <th>44</th>\n      <td>      jeudi 01 Mai 2014</td>\n      <td> C\u00e9r\u00e9monie de remise de m\u00e9dailles d\u2019honneur du ...</td>\n      <td> 10:00</td>\n    </tr>\n    <tr>\n      <th>45</th>\n      <td>      jeudi 01 Mai 2014</td>\n      <td> C\u00e9r\u00e9monie traditionnelle de remise du muguet p...</td>\n      <td> 12:00</td>\n    </tr>\n    <tr>\n      <th>46</th>\n      <td>     samedi 03 Mai 2014</td>\n      <td> Arriv\u00e9e au Stade de France du Pr\u00e9sident de la ...</td>\n      <td> 20:05</td>\n    </tr>\n    <tr>\n      <th>47</th>\n      <td>     samedi 03 Mai 2014</td>\n      <td> Allocution du Pr\u00e9sident de la R\u00e9publique et si...</td>\n      <td> 20:10</td>\n    </tr>\n    <tr>\n      <th>48</th>\n      <td>     samedi 03 Mai 2014</td>\n      <td>                                    D\u00e9but du match</td>\n      <td> 21:00</td>\n    </tr>\n    <tr>\n      <th>49</th>\n      <td>      lundi 05 Mai 2014</td>\n      <td> Entretien avec M. Shinzo ABE, Premier ministre...</td>\n      <td> 10:15</td>\n    </tr>\n    <tr>\n      <th>50</th>\n      <td>      lundi 05 Mai 2014</td>\n      <td> R\u00e9ception \u00e0 la R\u00e9sidence officielle de l\u2019Ambas...</td>\n      <td> 12:00</td>\n    </tr>\n    <tr>\n      <th>51</th>\n      <td>      lundi 05 Mai 2014</td>\n      <td>   D\u00e9jeuner avec M. Manuel VALLS, Premier ministre</td>\n      <td> 13:00</td>\n    </tr>\n    <tr>\n      <th>52</th>\n      <td>      lundi 05 Mai 2014</td>\n      <td> D\u00eener officiel en l\u2019honneur de M. Shinzo ABE, ...</td>\n      <td> 20:00</td>\n    </tr>\n    <tr>\n      <th>53</th>\n      <td>      mardi 06 Mai 2014</td>\n      <td> Interview sur RMC et BFM TV - R\u00e9ponses aux que...</td>\n      <td> 08:30</td>\n    </tr>\n    <tr>\n      <th>54</th>\n      <td>      mardi 06 Mai 2014</td>\n      <td> D\u00e9placement \u00e0 l\u2019Institut des M\u00e9tiers et de l\u2019A...</td>\n      <td> 10:00</td>\n    </tr>\n    <tr>\n      <th>55</th>\n      <td>      mardi 06 Mai 2014</td>\n      <td>                Entretien avec M. Pierre MOSCOVICI</td>\n      <td> 15:45</td>\n    </tr>\n    <tr>\n      <th>56</th>\n      <td>   mercredi 07 Mai 2014</td>\n      <td>  Entretien avec M. Manuel VALLS, Premier ministre</td>\n      <td> 09:00</td>\n    </tr>\n    <tr>\n      <th>57</th>\n      <td>   mercredi 07 Mai 2014</td>\n      <td>                             Conseil des ministres</td>\n      <td> 10:00</td>\n    </tr>\n    <tr>\n      <th>58</th>\n      <td>   mercredi 07 Mai 2014</td>\n      <td>       R\u00e9union sur la Nouvelle France industrielle</td>\n      <td> 11:30</td>\n    </tr>\n    <tr>\n      <th>59</th>\n      <td>   mercredi 07 Mai 2014</td>\n      <td> Entretien avec M. Jean-Yves LE DRIAN, ministre...</td>\n      <td> 18:00</td>\n    </tr>\n    <tr>\n      <th></th>\n      <td>...</td>\n      <td>...</td>\n      <td>...</td>\n    </tr>\n  </tbody>\n</table>\n<p>124 rows \u00d7 3 columns</p>\n</div>",
       "metadata": {},
       "output_type": "pyout",
       "prompt_number": 59,
       "text": "                     dates                                              event  \\\n0      lundi 28 Avril 2014  Entretien avec M. Jeffrey IMMELT, pr\u00e9sident di...   \n1      lundi 28 Avril 2014  Entretien avec M. Bernard CAZENEUVE, ministre ...   \n2      lundi 28 Avril 2014    D\u00e9jeuner avec M. Manuel VALLS, Premier ministre   \n3      lundi 28 Avril 2014  Cl\u00f4ture de la rencontre sur le th\u00e8me \u00ab L\u2019Etat ...   \n4      mardi 29 Avril 2014  Entretien avec M. Laurent FABIUS, ministre des...   \n5      mardi 29 Avril 2014   Inauguration de l\u2019exposition \u00ab Naissance d\u2019un...   \n6      mardi 29 Avril 2014  Entretien avec M. Jos\u00e9 Eduardo DOS SANTOS, pr\u00e9...   \n7      mardi 29 Avril 2014  Remise du rapport d\u2019activit\u00e9 du Conseil d\u2019Etat...   \n8      mardi 29 Avril 2014  Entretien avec M. Mehdi JOMAA, chef du gouvern...   \n9      mardi 29 Avril 2014  C\u00e9r\u00e9monie de remise collective de d\u00e9corations ...   \n10  mercredi 30 Avril 2014                              Conseil des ministres   \n11  mercredi 30 Avril 2014  D\u00e9jeuner en l\u2019honneur des r\u00e9alisateurs s\u00e9lecti...   \n12  mercredi 30 Avril 2014  Entretien avec M. Fran\u00e7ois REBSAMEN, ministre ...   \n13       jeudi 01 Mai 2014  C\u00e9r\u00e9monie de remise de m\u00e9dailles d\u2019honneur du ...   \n14       jeudi 01 Mai 2014  C\u00e9r\u00e9monie traditionnelle de remise du muguet p...   \n15      samedi 03 Mai 2014  Arriv\u00e9e au Stade de France du Pr\u00e9sident de la ...   \n16      samedi 03 Mai 2014  Allocution du Pr\u00e9sident de la R\u00e9publique et si...   \n17      samedi 03 Mai 2014                                     D\u00e9but du match   \n18       lundi 05 Mai 2014  Entretien avec M. Shinzo ABE, Premier ministre...   \n19       lundi 05 Mai 2014  R\u00e9ception \u00e0 la R\u00e9sidence officielle de l\u2019Ambas...   \n20       lundi 05 Mai 2014    D\u00e9jeuner avec M. Manuel VALLS, Premier ministre   \n21       lundi 05 Mai 2014  D\u00eener officiel en l\u2019honneur de M. Shinzo ABE, ...   \n22       mardi 06 Mai 2014  Interview sur RMC et BFM TV - R\u00e9ponses aux que...   \n23       mardi 06 Mai 2014  D\u00e9placement \u00e0 l\u2019Institut des M\u00e9tiers et de l\u2019A...   \n24       mardi 06 Mai 2014                 Entretien avec M. Pierre MOSCOVICI   \n25    mercredi 07 Mai 2014   Entretien avec M. Manuel VALLS, Premier ministre   \n26    mercredi 07 Mai 2014                              Conseil des ministres   \n27    mercredi 07 Mai 2014        R\u00e9union sur la Nouvelle France industrielle   \n28    mercredi 07 Mai 2014  Entretien avec M. Jean-Yves LE DRIAN, ministre...   \n29       jeudi 08 Mai 2014  C\u00e9r\u00e9monies de comm\u00e9moration de la Victoire du ...   \n30      samedi 10 Mai 2014  C\u00e9r\u00e9monie de comm\u00e9moration de la journ\u00e9e natio...   \n31     lundi 28 Avril 2014  Entretien avec M. Jeffrey IMMELT, pr\u00e9sident di...   \n32     lundi 28 Avril 2014  Entretien avec M. Bernard CAZENEUVE, ministre ...   \n33     lundi 28 Avril 2014    D\u00e9jeuner avec M. Manuel VALLS, Premier ministre   \n34     lundi 28 Avril 2014  Cl\u00f4ture de la rencontre sur le th\u00e8me \u00ab L\u2019Etat ...   \n35     mardi 29 Avril 2014  Entretien avec M. Laurent FABIUS, ministre des...   \n36     mardi 29 Avril 2014   Inauguration de l\u2019exposition \u00ab Naissance d\u2019un...   \n37     mardi 29 Avril 2014  Entretien avec M. Jos\u00e9 Eduardo DOS SANTOS, pr\u00e9...   \n38     mardi 29 Avril 2014  Remise du rapport d\u2019activit\u00e9 du Conseil d\u2019Etat...   \n39     mardi 29 Avril 2014  Entretien avec M. Mehdi JOMAA, chef du gouvern...   \n40     mardi 29 Avril 2014  C\u00e9r\u00e9monie de remise collective de d\u00e9corations ...   \n41  mercredi 30 Avril 2014                              Conseil des ministres   \n42  mercredi 30 Avril 2014  D\u00e9jeuner en l\u2019honneur des r\u00e9alisateurs s\u00e9lecti...   \n43  mercredi 30 Avril 2014  Entretien avec M. Fran\u00e7ois REBSAMEN, ministre ...   \n44       jeudi 01 Mai 2014  C\u00e9r\u00e9monie de remise de m\u00e9dailles d\u2019honneur du ...   \n45       jeudi 01 Mai 2014  C\u00e9r\u00e9monie traditionnelle de remise du muguet p...   \n46      samedi 03 Mai 2014  Arriv\u00e9e au Stade de France du Pr\u00e9sident de la ...   \n47      samedi 03 Mai 2014  Allocution du Pr\u00e9sident de la R\u00e9publique et si...   \n48      samedi 03 Mai 2014                                     D\u00e9but du match   \n49       lundi 05 Mai 2014  Entretien avec M. Shinzo ABE, Premier ministre...   \n50       lundi 05 Mai 2014  R\u00e9ception \u00e0 la R\u00e9sidence officielle de l\u2019Ambas...   \n51       lundi 05 Mai 2014    D\u00e9jeuner avec M. Manuel VALLS, Premier ministre   \n52       lundi 05 Mai 2014  D\u00eener officiel en l\u2019honneur de M. Shinzo ABE, ...   \n53       mardi 06 Mai 2014  Interview sur RMC et BFM TV - R\u00e9ponses aux que...   \n54       mardi 06 Mai 2014  D\u00e9placement \u00e0 l\u2019Institut des M\u00e9tiers et de l\u2019A...   \n55       mardi 06 Mai 2014                 Entretien avec M. Pierre MOSCOVICI   \n56    mercredi 07 Mai 2014   Entretien avec M. Manuel VALLS, Premier ministre   \n57    mercredi 07 Mai 2014                              Conseil des ministres   \n58    mercredi 07 Mai 2014        R\u00e9union sur la Nouvelle France industrielle   \n59    mercredi 07 Mai 2014  Entretien avec M. Jean-Yves LE DRIAN, ministre...   \n                       ...                                                ...   \n\n     time  \n0   09:30  \n1   10:00  \n2   13:00  \n3   17:00  \n4   08:30  \n5   10:30  \n6   12:30  \n7   15:00  \n8   16:00  \n9   18:00  \n10  10:00  \n11  13:00  \n12  19:00  \n13  10:00  \n14  12:00  \n15  20:05  \n16  20:10  \n17  21:00  \n18  10:15  \n19  12:00  \n20  13:00  \n21  20:00  \n22  08:30  \n23  10:00  \n24  15:45  \n25  09:00  \n26  10:00  \n27  11:30  \n28  18:00  \n29  10:30  \n30  16:00  \n31  09:30  \n32  10:00  \n33  13:00  \n34  17:00  \n35  08:30  \n36  10:30  \n37  12:30  \n38  15:00  \n39  16:00  \n40  18:00  \n41  10:00  \n42  13:00  \n43  19:00  \n44  10:00  \n45  12:00  \n46  20:05  \n47  20:10  \n48  21:00  \n49  10:15  \n50  12:00  \n51  13:00  \n52  20:00  \n53  08:30  \n54  10:00  \n55  15:45  \n56  09:00  \n57  10:00  \n58  11:30  \n59  18:00  \n      ...  \n\n[124 rows x 3 columns]"
      }
     ],
     "prompt_number": 59
    },
    {
     "cell_type": "code",
     "collapsed": false,
     "input": "from re import match\ncalendar[\"event\"].str.match(\".*VALLS.*\").value_counts()",
     "language": "python",
     "metadata": {},
     "outputs": [
      {
       "metadata": {},
       "output_type": "pyout",
       "prompt_number": 60,
       "text": "False    112\nTrue      12\ndtype: int64"
      }
     ],
     "prompt_number": 60
    },
    {
     "cell_type": "code",
     "collapsed": false,
     "input": "calendar[\"event\"].value_counts()",
     "language": "python",
     "metadata": {},
     "outputs": [
      {
       "metadata": {},
       "output_type": "pyout",
       "prompt_number": 61,
       "text": "Conseil des ministres                                           8\nD\u00e9jeuner avec M. Manuel VALLS, Premier ministre                 8\nEntretien avec M. Manuel VALLS, Premier ministre                4\n Inauguration de l\u2019exposition \u00ab Naissance d\u2019un mus\u00e9e. Louvre - Abu Dhabi \u00bb (Mus\u00e9e du Louvre)    4\nAllocution du Pr\u00e9sident de la R\u00e9publique et signature de la convention    4\nEntretien avec M. Jean-Yves LE DRIAN, ministre de la D\u00e9fense    4\nR\u00e9union sur la Nouvelle France industrielle                     4\nCl\u00f4ture de la rencontre sur le th\u00e8me \u00ab L\u2019Etat se mobilise pour l\u2019emploi \u00bb, en pr\u00e9sence de l\u2019ensemble des acteurs territoriaux de l\u2019Etat (Maison de la Chimie)    4\nEntretien avec M. Fran\u00e7ois REBSAMEN, ministre du Travail, de l\u2019Emploi et du Dialogue social    4\nC\u00e9r\u00e9monie de remise de m\u00e9dailles d\u2019honneur du travail, en pr\u00e9sence de M. Fran\u00e7ois REBSAMEN, ministre du Travail, de l\u2019Emploi et du Dialogue social    4\nEntretien avec M. Shinzo ABE, Premier ministre du Japon         4\nC\u00e9r\u00e9monie de remise collective de d\u00e9corations de Maria NOWAK, Roger RINCHET, Jean MATOUK, Patrick BUFFET, Prune BERGE-SANTELLI, Pierre SANTINI, Suzanne PAGE, Malika MENNER    4\nD\u00eener officiel en l\u2019honneur de M. Shinzo ABE, Premier ministre du Japon    4\nEntretien avec M. Jos\u00e9 Eduardo DOS SANTOS, pr\u00e9sident de la R\u00e9publique d\u2019Angola, suivi d\u2019un d\u00e9jeuner    4\nEntretien avec M. Jeffrey IMMELT, pr\u00e9sident directeur g\u00e9n\u00e9ral du groupe General Electric    4\nEntretien avec M. Pierre MOSCOVICI                              4\nD\u00e9but du match                                                  4\nInterview sur RMC et BFM TV - R\u00e9ponses aux questions de Jean-Jacques BOURDIN, des auditeurs et t\u00e9l\u00e9spectateurs    4\nEntretien avec M. Laurent FABIUS, ministre des Affaires \u00e9trang\u00e8res et du D\u00e9veloppement international    4\nC\u00e9r\u00e9monies de comm\u00e9moration de la Victoire du 8 mai 1945        4\nC\u00e9r\u00e9monie de comm\u00e9moration de la journ\u00e9e nationale des m\u00e9moires de la traite, de l\u2019esclavage et de leurs abolitions, Jardin du Luxembourg    4\nEntretien avec M. Bernard CAZENEUVE, ministre de l\u2019Int\u00e9rieur    4\nC\u00e9r\u00e9monie traditionnelle de remise du muguet par une d\u00e9l\u00e9gation du March\u00e9 International de Rungis, en pr\u00e9sence de M. St\u00e9phane LE FOLL, ministre de l\u2019Agriculture, de l\u2019Agro-alimentaire et de la For\u00eat, Porte-parole du Gouvernement    4\nArriv\u00e9e au Stade de France du Pr\u00e9sident de la R\u00e9publique        4\nEntretien avec M. Mehdi JOMAA, chef du gouvernement de la R\u00e9publique tunisienne    4\nD\u00e9jeuner en l\u2019honneur des r\u00e9alisateurs s\u00e9lectionn\u00e9s en comp\u00e9tition officielle au Festival de Cannes, en pr\u00e9sence de M. Gilles JACOB, pr\u00e9sident du Festival de Cannes, M. Thierry FREMAUX, d\u00e9l\u00e9gu\u00e9 g\u00e9n\u00e9ral , et Mme Aur\u00e9lie FILIPPETTI, ministre de la Culture et de la Communication    4\nD\u00e9placement \u00e0 l\u2019Institut des M\u00e9tiers et de l\u2019Artisanat de Villiers-Le-Bel     4\nR\u00e9ception \u00e0 la R\u00e9sidence officielle de l\u2019Ambassade du Japon     4\nRemise du rapport d\u2019activit\u00e9 du Conseil d\u2019Etat par M. Jean-Marc SAUVE, vice-pr\u00e9sident du Conseil d\u2019Etat, en pr\u00e9sence de M. Christian VIGOUROUX, pr\u00e9sident de la section du rapport et des \u00e9tudes    4\ndtype: int64"
      }
     ],
     "prompt_number": 61
    },
    {
     "cell_type": "code",
     "collapsed": false,
     "input": "calendar.tail(100)",
     "language": "python",
     "metadata": {},
     "outputs": [
      {
       "html": "<div style=\"max-height:1000px;max-width:1500px;overflow:auto;\">\n<table border=\"1\" class=\"dataframe\">\n  <thead>\n    <tr style=\"text-align: right;\">\n      <th></th>\n      <th>dates</th>\n      <th>event</th>\n      <th>time</th>\n    </tr>\n  </thead>\n  <tbody>\n    <tr>\n      <th>24</th>\n      <td>      mardi 06 Mai 2014</td>\n      <td>                Entretien avec M. Pierre MOSCOVICI</td>\n      <td> 15:45</td>\n    </tr>\n    <tr>\n      <th>25</th>\n      <td>   mercredi 07 Mai 2014</td>\n      <td>  Entretien avec M. Manuel VALLS, Premier ministre</td>\n      <td> 09:00</td>\n    </tr>\n    <tr>\n      <th>26</th>\n      <td>   mercredi 07 Mai 2014</td>\n      <td>                             Conseil des ministres</td>\n      <td> 10:00</td>\n    </tr>\n    <tr>\n      <th>27</th>\n      <td>   mercredi 07 Mai 2014</td>\n      <td>       R\u00e9union sur la Nouvelle France industrielle</td>\n      <td> 11:30</td>\n    </tr>\n    <tr>\n      <th>28</th>\n      <td>   mercredi 07 Mai 2014</td>\n      <td> Entretien avec M. Jean-Yves LE DRIAN, ministre...</td>\n      <td> 18:00</td>\n    </tr>\n    <tr>\n      <th>29</th>\n      <td>      jeudi 08 Mai 2014</td>\n      <td> C\u00e9r\u00e9monies de comm\u00e9moration de la Victoire du ...</td>\n      <td> 10:30</td>\n    </tr>\n    <tr>\n      <th>30</th>\n      <td>     samedi 10 Mai 2014</td>\n      <td> C\u00e9r\u00e9monie de comm\u00e9moration de la journ\u00e9e natio...</td>\n      <td> 16:00</td>\n    </tr>\n    <tr>\n      <th>31</th>\n      <td>    lundi 28 Avril 2014</td>\n      <td> Entretien avec M. Jeffrey IMMELT, pr\u00e9sident di...</td>\n      <td> 09:30</td>\n    </tr>\n    <tr>\n      <th>32</th>\n      <td>    lundi 28 Avril 2014</td>\n      <td> Entretien avec M. Bernard CAZENEUVE, ministre ...</td>\n      <td> 10:00</td>\n    </tr>\n    <tr>\n      <th>33</th>\n      <td>    lundi 28 Avril 2014</td>\n      <td>   D\u00e9jeuner avec M. Manuel VALLS, Premier ministre</td>\n      <td> 13:00</td>\n    </tr>\n    <tr>\n      <th>34</th>\n      <td>    lundi 28 Avril 2014</td>\n      <td> Cl\u00f4ture de la rencontre sur le th\u00e8me \u00ab L\u2019Etat ...</td>\n      <td> 17:00</td>\n    </tr>\n    <tr>\n      <th>35</th>\n      <td>    mardi 29 Avril 2014</td>\n      <td> Entretien avec M. Laurent FABIUS, ministre des...</td>\n      <td> 08:30</td>\n    </tr>\n    <tr>\n      <th>36</th>\n      <td>    mardi 29 Avril 2014</td>\n      <td>  Inauguration de l\u2019exposition \u00ab Naissance d\u2019un...</td>\n      <td> 10:30</td>\n    </tr>\n    <tr>\n      <th>37</th>\n      <td>    mardi 29 Avril 2014</td>\n      <td> Entretien avec M. Jos\u00e9 Eduardo DOS SANTOS, pr\u00e9...</td>\n      <td> 12:30</td>\n    </tr>\n    <tr>\n      <th>38</th>\n      <td>    mardi 29 Avril 2014</td>\n      <td> Remise du rapport d\u2019activit\u00e9 du Conseil d\u2019Etat...</td>\n      <td> 15:00</td>\n    </tr>\n    <tr>\n      <th>39</th>\n      <td>    mardi 29 Avril 2014</td>\n      <td> Entretien avec M. Mehdi JOMAA, chef du gouvern...</td>\n      <td> 16:00</td>\n    </tr>\n    <tr>\n      <th>40</th>\n      <td>    mardi 29 Avril 2014</td>\n      <td> C\u00e9r\u00e9monie de remise collective de d\u00e9corations ...</td>\n      <td> 18:00</td>\n    </tr>\n    <tr>\n      <th>41</th>\n      <td> mercredi 30 Avril 2014</td>\n      <td>                             Conseil des ministres</td>\n      <td> 10:00</td>\n    </tr>\n    <tr>\n      <th>42</th>\n      <td> mercredi 30 Avril 2014</td>\n      <td> D\u00e9jeuner en l\u2019honneur des r\u00e9alisateurs s\u00e9lecti...</td>\n      <td> 13:00</td>\n    </tr>\n    <tr>\n      <th>43</th>\n      <td> mercredi 30 Avril 2014</td>\n      <td> Entretien avec M. Fran\u00e7ois REBSAMEN, ministre ...</td>\n      <td> 19:00</td>\n    </tr>\n    <tr>\n      <th>44</th>\n      <td>      jeudi 01 Mai 2014</td>\n      <td> C\u00e9r\u00e9monie de remise de m\u00e9dailles d\u2019honneur du ...</td>\n      <td> 10:00</td>\n    </tr>\n    <tr>\n      <th>45</th>\n      <td>      jeudi 01 Mai 2014</td>\n      <td> C\u00e9r\u00e9monie traditionnelle de remise du muguet p...</td>\n      <td> 12:00</td>\n    </tr>\n    <tr>\n      <th>46</th>\n      <td>     samedi 03 Mai 2014</td>\n      <td> Arriv\u00e9e au Stade de France du Pr\u00e9sident de la ...</td>\n      <td> 20:05</td>\n    </tr>\n    <tr>\n      <th>47</th>\n      <td>     samedi 03 Mai 2014</td>\n      <td> Allocution du Pr\u00e9sident de la R\u00e9publique et si...</td>\n      <td> 20:10</td>\n    </tr>\n    <tr>\n      <th>48</th>\n      <td>     samedi 03 Mai 2014</td>\n      <td>                                    D\u00e9but du match</td>\n      <td> 21:00</td>\n    </tr>\n    <tr>\n      <th>49</th>\n      <td>      lundi 05 Mai 2014</td>\n      <td> Entretien avec M. Shinzo ABE, Premier ministre...</td>\n      <td> 10:15</td>\n    </tr>\n    <tr>\n      <th>50</th>\n      <td>      lundi 05 Mai 2014</td>\n      <td> R\u00e9ception \u00e0 la R\u00e9sidence officielle de l\u2019Ambas...</td>\n      <td> 12:00</td>\n    </tr>\n    <tr>\n      <th>51</th>\n      <td>      lundi 05 Mai 2014</td>\n      <td>   D\u00e9jeuner avec M. Manuel VALLS, Premier ministre</td>\n      <td> 13:00</td>\n    </tr>\n    <tr>\n      <th>52</th>\n      <td>      lundi 05 Mai 2014</td>\n      <td> D\u00eener officiel en l\u2019honneur de M. Shinzo ABE, ...</td>\n      <td> 20:00</td>\n    </tr>\n    <tr>\n      <th>53</th>\n      <td>      mardi 06 Mai 2014</td>\n      <td> Interview sur RMC et BFM TV - R\u00e9ponses aux que...</td>\n      <td> 08:30</td>\n    </tr>\n    <tr>\n      <th>54</th>\n      <td>      mardi 06 Mai 2014</td>\n      <td> D\u00e9placement \u00e0 l\u2019Institut des M\u00e9tiers et de l\u2019A...</td>\n      <td> 10:00</td>\n    </tr>\n    <tr>\n      <th>55</th>\n      <td>      mardi 06 Mai 2014</td>\n      <td>                Entretien avec M. Pierre MOSCOVICI</td>\n      <td> 15:45</td>\n    </tr>\n    <tr>\n      <th>56</th>\n      <td>   mercredi 07 Mai 2014</td>\n      <td>  Entretien avec M. Manuel VALLS, Premier ministre</td>\n      <td> 09:00</td>\n    </tr>\n    <tr>\n      <th>57</th>\n      <td>   mercredi 07 Mai 2014</td>\n      <td>                             Conseil des ministres</td>\n      <td> 10:00</td>\n    </tr>\n    <tr>\n      <th>58</th>\n      <td>   mercredi 07 Mai 2014</td>\n      <td>       R\u00e9union sur la Nouvelle France industrielle</td>\n      <td> 11:30</td>\n    </tr>\n    <tr>\n      <th>59</th>\n      <td>   mercredi 07 Mai 2014</td>\n      <td> Entretien avec M. Jean-Yves LE DRIAN, ministre...</td>\n      <td> 18:00</td>\n    </tr>\n    <tr>\n      <th>60</th>\n      <td>      jeudi 08 Mai 2014</td>\n      <td> C\u00e9r\u00e9monies de comm\u00e9moration de la Victoire du ...</td>\n      <td> 10:30</td>\n    </tr>\n    <tr>\n      <th>61</th>\n      <td>     samedi 10 Mai 2014</td>\n      <td> C\u00e9r\u00e9monie de comm\u00e9moration de la journ\u00e9e natio...</td>\n      <td> 16:00</td>\n    </tr>\n    <tr>\n      <th>62</th>\n      <td>    lundi 28 Avril 2014</td>\n      <td> Entretien avec M. Jeffrey IMMELT, pr\u00e9sident di...</td>\n      <td> 09:30</td>\n    </tr>\n    <tr>\n      <th>63</th>\n      <td>    lundi 28 Avril 2014</td>\n      <td> Entretien avec M. Bernard CAZENEUVE, ministre ...</td>\n      <td> 10:00</td>\n    </tr>\n    <tr>\n      <th>64</th>\n      <td>    lundi 28 Avril 2014</td>\n      <td>   D\u00e9jeuner avec M. Manuel VALLS, Premier ministre</td>\n      <td> 13:00</td>\n    </tr>\n    <tr>\n      <th>65</th>\n      <td>    lundi 28 Avril 2014</td>\n      <td> Cl\u00f4ture de la rencontre sur le th\u00e8me \u00ab L\u2019Etat ...</td>\n      <td> 17:00</td>\n    </tr>\n    <tr>\n      <th>66</th>\n      <td>    mardi 29 Avril 2014</td>\n      <td> Entretien avec M. Laurent FABIUS, ministre des...</td>\n      <td> 08:30</td>\n    </tr>\n    <tr>\n      <th>67</th>\n      <td>    mardi 29 Avril 2014</td>\n      <td>  Inauguration de l\u2019exposition \u00ab Naissance d\u2019un...</td>\n      <td> 10:30</td>\n    </tr>\n    <tr>\n      <th>68</th>\n      <td>    mardi 29 Avril 2014</td>\n      <td> Entretien avec M. Jos\u00e9 Eduardo DOS SANTOS, pr\u00e9...</td>\n      <td> 12:30</td>\n    </tr>\n    <tr>\n      <th>69</th>\n      <td>    mardi 29 Avril 2014</td>\n      <td> Remise du rapport d\u2019activit\u00e9 du Conseil d\u2019Etat...</td>\n      <td> 15:00</td>\n    </tr>\n    <tr>\n      <th>70</th>\n      <td>    mardi 29 Avril 2014</td>\n      <td> Entretien avec M. Mehdi JOMAA, chef du gouvern...</td>\n      <td> 16:00</td>\n    </tr>\n    <tr>\n      <th>71</th>\n      <td>    mardi 29 Avril 2014</td>\n      <td> C\u00e9r\u00e9monie de remise collective de d\u00e9corations ...</td>\n      <td> 18:00</td>\n    </tr>\n    <tr>\n      <th>72</th>\n      <td> mercredi 30 Avril 2014</td>\n      <td>                             Conseil des ministres</td>\n      <td> 10:00</td>\n    </tr>\n    <tr>\n      <th>73</th>\n      <td> mercredi 30 Avril 2014</td>\n      <td> D\u00e9jeuner en l\u2019honneur des r\u00e9alisateurs s\u00e9lecti...</td>\n      <td> 13:00</td>\n    </tr>\n    <tr>\n      <th>74</th>\n      <td> mercredi 30 Avril 2014</td>\n      <td> Entretien avec M. Fran\u00e7ois REBSAMEN, ministre ...</td>\n      <td> 19:00</td>\n    </tr>\n    <tr>\n      <th>75</th>\n      <td>      jeudi 01 Mai 2014</td>\n      <td> C\u00e9r\u00e9monie de remise de m\u00e9dailles d\u2019honneur du ...</td>\n      <td> 10:00</td>\n    </tr>\n    <tr>\n      <th>76</th>\n      <td>      jeudi 01 Mai 2014</td>\n      <td> C\u00e9r\u00e9monie traditionnelle de remise du muguet p...</td>\n      <td> 12:00</td>\n    </tr>\n    <tr>\n      <th>77</th>\n      <td>     samedi 03 Mai 2014</td>\n      <td> Arriv\u00e9e au Stade de France du Pr\u00e9sident de la ...</td>\n      <td> 20:05</td>\n    </tr>\n    <tr>\n      <th>78</th>\n      <td>     samedi 03 Mai 2014</td>\n      <td> Allocution du Pr\u00e9sident de la R\u00e9publique et si...</td>\n      <td> 20:10</td>\n    </tr>\n    <tr>\n      <th>79</th>\n      <td>     samedi 03 Mai 2014</td>\n      <td>                                    D\u00e9but du match</td>\n      <td> 21:00</td>\n    </tr>\n    <tr>\n      <th>80</th>\n      <td>      lundi 05 Mai 2014</td>\n      <td> Entretien avec M. Shinzo ABE, Premier ministre...</td>\n      <td> 10:15</td>\n    </tr>\n    <tr>\n      <th>81</th>\n      <td>      lundi 05 Mai 2014</td>\n      <td> R\u00e9ception \u00e0 la R\u00e9sidence officielle de l\u2019Ambas...</td>\n      <td> 12:00</td>\n    </tr>\n    <tr>\n      <th>82</th>\n      <td>      lundi 05 Mai 2014</td>\n      <td>   D\u00e9jeuner avec M. Manuel VALLS, Premier ministre</td>\n      <td> 13:00</td>\n    </tr>\n    <tr>\n      <th>83</th>\n      <td>      lundi 05 Mai 2014</td>\n      <td> D\u00eener officiel en l\u2019honneur de M. Shinzo ABE, ...</td>\n      <td> 20:00</td>\n    </tr>\n    <tr>\n      <th></th>\n      <td>...</td>\n      <td>...</td>\n      <td>...</td>\n    </tr>\n  </tbody>\n</table>\n<p>100 rows \u00d7 3 columns</p>\n</div>",
       "metadata": {},
       "output_type": "pyout",
       "prompt_number": 62,
       "text": "                     dates                                              event  \\\n24       mardi 06 Mai 2014                 Entretien avec M. Pierre MOSCOVICI   \n25    mercredi 07 Mai 2014   Entretien avec M. Manuel VALLS, Premier ministre   \n26    mercredi 07 Mai 2014                              Conseil des ministres   \n27    mercredi 07 Mai 2014        R\u00e9union sur la Nouvelle France industrielle   \n28    mercredi 07 Mai 2014  Entretien avec M. Jean-Yves LE DRIAN, ministre...   \n29       jeudi 08 Mai 2014  C\u00e9r\u00e9monies de comm\u00e9moration de la Victoire du ...   \n30      samedi 10 Mai 2014  C\u00e9r\u00e9monie de comm\u00e9moration de la journ\u00e9e natio...   \n31     lundi 28 Avril 2014  Entretien avec M. Jeffrey IMMELT, pr\u00e9sident di...   \n32     lundi 28 Avril 2014  Entretien avec M. Bernard CAZENEUVE, ministre ...   \n33     lundi 28 Avril 2014    D\u00e9jeuner avec M. Manuel VALLS, Premier ministre   \n34     lundi 28 Avril 2014  Cl\u00f4ture de la rencontre sur le th\u00e8me \u00ab L\u2019Etat ...   \n35     mardi 29 Avril 2014  Entretien avec M. Laurent FABIUS, ministre des...   \n36     mardi 29 Avril 2014   Inauguration de l\u2019exposition \u00ab Naissance d\u2019un...   \n37     mardi 29 Avril 2014  Entretien avec M. Jos\u00e9 Eduardo DOS SANTOS, pr\u00e9...   \n38     mardi 29 Avril 2014  Remise du rapport d\u2019activit\u00e9 du Conseil d\u2019Etat...   \n39     mardi 29 Avril 2014  Entretien avec M. Mehdi JOMAA, chef du gouvern...   \n40     mardi 29 Avril 2014  C\u00e9r\u00e9monie de remise collective de d\u00e9corations ...   \n41  mercredi 30 Avril 2014                              Conseil des ministres   \n42  mercredi 30 Avril 2014  D\u00e9jeuner en l\u2019honneur des r\u00e9alisateurs s\u00e9lecti...   \n43  mercredi 30 Avril 2014  Entretien avec M. Fran\u00e7ois REBSAMEN, ministre ...   \n44       jeudi 01 Mai 2014  C\u00e9r\u00e9monie de remise de m\u00e9dailles d\u2019honneur du ...   \n45       jeudi 01 Mai 2014  C\u00e9r\u00e9monie traditionnelle de remise du muguet p...   \n46      samedi 03 Mai 2014  Arriv\u00e9e au Stade de France du Pr\u00e9sident de la ...   \n47      samedi 03 Mai 2014  Allocution du Pr\u00e9sident de la R\u00e9publique et si...   \n48      samedi 03 Mai 2014                                     D\u00e9but du match   \n49       lundi 05 Mai 2014  Entretien avec M. Shinzo ABE, Premier ministre...   \n50       lundi 05 Mai 2014  R\u00e9ception \u00e0 la R\u00e9sidence officielle de l\u2019Ambas...   \n51       lundi 05 Mai 2014    D\u00e9jeuner avec M. Manuel VALLS, Premier ministre   \n52       lundi 05 Mai 2014  D\u00eener officiel en l\u2019honneur de M. Shinzo ABE, ...   \n53       mardi 06 Mai 2014  Interview sur RMC et BFM TV - R\u00e9ponses aux que...   \n54       mardi 06 Mai 2014  D\u00e9placement \u00e0 l\u2019Institut des M\u00e9tiers et de l\u2019A...   \n55       mardi 06 Mai 2014                 Entretien avec M. Pierre MOSCOVICI   \n56    mercredi 07 Mai 2014   Entretien avec M. Manuel VALLS, Premier ministre   \n57    mercredi 07 Mai 2014                              Conseil des ministres   \n58    mercredi 07 Mai 2014        R\u00e9union sur la Nouvelle France industrielle   \n59    mercredi 07 Mai 2014  Entretien avec M. Jean-Yves LE DRIAN, ministre...   \n60       jeudi 08 Mai 2014  C\u00e9r\u00e9monies de comm\u00e9moration de la Victoire du ...   \n61      samedi 10 Mai 2014  C\u00e9r\u00e9monie de comm\u00e9moration de la journ\u00e9e natio...   \n62     lundi 28 Avril 2014  Entretien avec M. Jeffrey IMMELT, pr\u00e9sident di...   \n63     lundi 28 Avril 2014  Entretien avec M. Bernard CAZENEUVE, ministre ...   \n64     lundi 28 Avril 2014    D\u00e9jeuner avec M. Manuel VALLS, Premier ministre   \n65     lundi 28 Avril 2014  Cl\u00f4ture de la rencontre sur le th\u00e8me \u00ab L\u2019Etat ...   \n66     mardi 29 Avril 2014  Entretien avec M. Laurent FABIUS, ministre des...   \n67     mardi 29 Avril 2014   Inauguration de l\u2019exposition \u00ab Naissance d\u2019un...   \n68     mardi 29 Avril 2014  Entretien avec M. Jos\u00e9 Eduardo DOS SANTOS, pr\u00e9...   \n69     mardi 29 Avril 2014  Remise du rapport d\u2019activit\u00e9 du Conseil d\u2019Etat...   \n70     mardi 29 Avril 2014  Entretien avec M. Mehdi JOMAA, chef du gouvern...   \n71     mardi 29 Avril 2014  C\u00e9r\u00e9monie de remise collective de d\u00e9corations ...   \n72  mercredi 30 Avril 2014                              Conseil des ministres   \n73  mercredi 30 Avril 2014  D\u00e9jeuner en l\u2019honneur des r\u00e9alisateurs s\u00e9lecti...   \n74  mercredi 30 Avril 2014  Entretien avec M. Fran\u00e7ois REBSAMEN, ministre ...   \n75       jeudi 01 Mai 2014  C\u00e9r\u00e9monie de remise de m\u00e9dailles d\u2019honneur du ...   \n76       jeudi 01 Mai 2014  C\u00e9r\u00e9monie traditionnelle de remise du muguet p...   \n77      samedi 03 Mai 2014  Arriv\u00e9e au Stade de France du Pr\u00e9sident de la ...   \n78      samedi 03 Mai 2014  Allocution du Pr\u00e9sident de la R\u00e9publique et si...   \n79      samedi 03 Mai 2014                                     D\u00e9but du match   \n80       lundi 05 Mai 2014  Entretien avec M. Shinzo ABE, Premier ministre...   \n81       lundi 05 Mai 2014  R\u00e9ception \u00e0 la R\u00e9sidence officielle de l\u2019Ambas...   \n82       lundi 05 Mai 2014    D\u00e9jeuner avec M. Manuel VALLS, Premier ministre   \n83       lundi 05 Mai 2014  D\u00eener officiel en l\u2019honneur de M. Shinzo ABE, ...   \n                       ...                                                ...   \n\n     time  \n24  15:45  \n25  09:00  \n26  10:00  \n27  11:30  \n28  18:00  \n29  10:30  \n30  16:00  \n31  09:30  \n32  10:00  \n33  13:00  \n34  17:00  \n35  08:30  \n36  10:30  \n37  12:30  \n38  15:00  \n39  16:00  \n40  18:00  \n41  10:00  \n42  13:00  \n43  19:00  \n44  10:00  \n45  12:00  \n46  20:05  \n47  20:10  \n48  21:00  \n49  10:15  \n50  12:00  \n51  13:00  \n52  20:00  \n53  08:30  \n54  10:00  \n55  15:45  \n56  09:00  \n57  10:00  \n58  11:30  \n59  18:00  \n60  10:30  \n61  16:00  \n62  09:30  \n63  10:00  \n64  13:00  \n65  17:00  \n66  08:30  \n67  10:30  \n68  12:30  \n69  15:00  \n70  16:00  \n71  18:00  \n72  10:00  \n73  13:00  \n74  19:00  \n75  10:00  \n76  12:00  \n77  20:05  \n78  20:10  \n79  21:00  \n80  10:15  \n81  12:00  \n82  13:00  \n83  20:00  \n      ...  \n\n[100 rows x 3 columns]"
      }
     ],
     "prompt_number": 62
    },
    {
     "cell_type": "code",
     "collapsed": false,
     "input": "VALLS = calendar[calendar[\"event\"].str.match(\".*VALLS.*\")]",
     "language": "python",
     "metadata": {},
     "outputs": [],
     "prompt_number": 19
    },
    {
     "cell_type": "code",
     "collapsed": false,
     "input": "VALLS[\"time\"].value_counts()",
     "language": "python",
     "metadata": {},
     "outputs": [
      {
       "metadata": {},
       "output_type": "pyout",
       "prompt_number": 20,
       "text": "13:00    210\n09:00    105\ndtype: int64"
      }
     ],
     "prompt_number": 20
    },
    {
     "cell_type": "code",
     "collapsed": false,
     "input": "calendar[calendar[\"event\"].str.match(\".*AYRAULT.*\")]",
     "language": "python",
     "metadata": {},
     "outputs": [
      {
       "html": "<div style=\"max-height:1000px;max-width:1500px;overflow:auto;\">\n<table border=\"1\" class=\"dataframe\">\n  <tbody>\n    <tr>\n      <td>Int64Index([], dtype='int64')</td>\n      <td>Empty DataFrame</td>\n    </tr>\n  </tbody>\n</table>\n<p>0 rows \u00d7 3 columns</p>\n</div>",
       "metadata": {},
       "output_type": "pyout",
       "prompt_number": 21,
       "text": "Empty DataFrame\nColumns: [dates, event, time]\nIndex: []\n\n[0 rows x 3 columns]"
      }
     ],
     "prompt_number": 21
    },
    {
     "cell_type": "code",
     "collapsed": false,
     "input": "",
     "language": "python",
     "metadata": {},
     "outputs": [],
     "prompt_number": 21
    },
    {
     "cell_type": "code",
     "collapsed": false,
     "input": "",
     "language": "python",
     "metadata": {},
     "outputs": [],
     "prompt_number": 21
    },
    {
     "cell_type": "code",
     "collapsed": false,
     "input": "",
     "language": "python",
     "metadata": {},
     "outputs": []
    }
   ],
   "metadata": {}
  }
 ]
}